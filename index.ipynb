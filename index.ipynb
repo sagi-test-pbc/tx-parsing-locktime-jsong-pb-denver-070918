{
 "cells": [
  {
   "cell_type": "markdown",
   "metadata": {},
   "source": [
    "# Parsing Locktime from a Transaction\n",
    "\n",
    "Locktime is a way to time-delay a transaction. A transaction with a locktime of 525,000 cannot go into the blockchain until block 525,000. this was originally construed as a way to do payment channels (see sidebar). The rule with locktime is that if the locktime is greater than 500,000,000, it is a unix time stamp. If it is less than 500,000,000, it is a block number. This way, transactions can be signed, but unspendable until a certain point in time or block."
   ]
  },
  {
   "cell_type": "markdown",
   "metadata": {},
   "source": [
    "### Test Driven Exercise"
   ]
  },
  {
   "cell_type": "code",
   "execution_count": null,
   "metadata": {},
   "outputs": [],
   "source": [
    "from io import BytesIO\n",
    "from helper import (\n",
    "    little_endian_to_int,\n",
    "    read_varint,\n",
    ")\n",
    "from tx import Tx, TxIn, TxOut\n",
    "\n",
    "class Tx(Tx):\n",
    "\n",
    "    @classmethod\n",
    "    def parse(cls, s):\n",
    "        '''Takes a byte stream and parses the transaction at the start\n",
    "        return a Tx object\n",
    "        '''\n",
    "        # s.read(n) will return n bytes\n",
    "        # version has 4 bytes, little-endian, interpret as int\n",
    "        version = little_endian_to_int(s.read(4))\n",
    "        # num_inputs is a varint, use read_varint(s)\n",
    "        num_inputs = read_varint(s)\n",
    "        # each input needs parsing\n",
    "        inputs = []\n",
    "        for _ in range(num_inputs):\n",
    "            inputs.append(TxIn.parse(s))\n",
    "        # num_outputs is a varint, use read_varint(s)\n",
    "        num_outputs = read_varint(s)\n",
    "        # each output needs parsing\n",
    "        outputs = []\n",
    "        for _ in range(num_outputs):\n",
    "            outputs.append(TxOut.parse(s))\n",
    "\n",
    "        # locktime is 4 bytes, little-endian\n",
    "        locktime = little_endian_to_int(s.read(4))\n",
    "        # return an instance of the class (cls(...))\n",
    "        return cls(version, tx_)\n",
    "        pass"
   ]
  }
 ],
 "metadata": {
  "kernelspec": {
   "display_name": "Python 3",
   "language": "python",
   "name": "python3"
  },
  "language_info": {
   "codemirror_mode": {
    "name": "ipython",
    "version": 3
   },
   "file_extension": ".py",
   "mimetype": "text/x-python",
   "name": "python",
   "nbconvert_exporter": "python",
   "pygments_lexer": "ipython3",
   "version": "3.6.4"
  }
 },
 "nbformat": 4,
 "nbformat_minor": 2
}
